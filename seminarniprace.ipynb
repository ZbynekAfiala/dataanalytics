{
 "cells": [
  {
   "cell_type": "code",
   "execution_count": 2,
   "metadata": {},
   "outputs": [],
   "source": [
    "import pandas as pd\n",
    "import numpy as np\n",
    "import seaborn as sns\n",
    "import spacy\n",
    "from collections import Counter\n",
    "from spacy.matcher import Matcher\n",
    "\n",
    "nlp = spacy.load(\"en_core_web_md\")"
   ]
  },
  {
   "cell_type": "code",
   "execution_count": 3,
   "metadata": {},
   "outputs": [
    {
     "data": {
      "text/html": [
       "<div>\n",
       "<style scoped>\n",
       "    .dataframe tbody tr th:only-of-type {\n",
       "        vertical-align: middle;\n",
       "    }\n",
       "\n",
       "    .dataframe tbody tr th {\n",
       "        vertical-align: top;\n",
       "    }\n",
       "\n",
       "    .dataframe thead th {\n",
       "        text-align: right;\n",
       "    }\n",
       "</style>\n",
       "<table border=\"1\" class=\"dataframe\">\n",
       "  <thead>\n",
       "    <tr style=\"text-align: right;\">\n",
       "      <th></th>\n",
       "      <th>Hotel_Address</th>\n",
       "      <th>Additional_Number_of_Scoring</th>\n",
       "      <th>Review_Date</th>\n",
       "      <th>Average_Score</th>\n",
       "      <th>Hotel_Name</th>\n",
       "      <th>Reviewer_Nationality</th>\n",
       "      <th>Negative_Review</th>\n",
       "      <th>Review_Total_Negative_Word_Counts</th>\n",
       "      <th>Total_Number_of_Reviews</th>\n",
       "      <th>Positive_Review</th>\n",
       "      <th>Review_Total_Positive_Word_Counts</th>\n",
       "      <th>Total_Number_of_Reviews_Reviewer_Has_Given</th>\n",
       "      <th>Reviewer_Score</th>\n",
       "      <th>Tags</th>\n",
       "      <th>days_since_review</th>\n",
       "      <th>lat</th>\n",
       "      <th>lng</th>\n",
       "    </tr>\n",
       "  </thead>\n",
       "  <tbody>\n",
       "    <tr>\n",
       "      <th>0</th>\n",
       "      <td>s Gravesandestraat 55 Oost 1092 AA Amsterdam ...</td>\n",
       "      <td>194</td>\n",
       "      <td>8/3/2017</td>\n",
       "      <td>7.7</td>\n",
       "      <td>Hotel Arena</td>\n",
       "      <td>Russia</td>\n",
       "      <td>I am so angry that i made this post available...</td>\n",
       "      <td>397</td>\n",
       "      <td>1403</td>\n",
       "      <td>Only the park outside of the hotel was beauti...</td>\n",
       "      <td>11</td>\n",
       "      <td>7</td>\n",
       "      <td>2.9</td>\n",
       "      <td>[' Leisure trip ', ' Couple ', ' Duplex Double...</td>\n",
       "      <td>0 days</td>\n",
       "      <td>52.360576</td>\n",
       "      <td>4.915968</td>\n",
       "    </tr>\n",
       "    <tr>\n",
       "      <th>1</th>\n",
       "      <td>s Gravesandestraat 55 Oost 1092 AA Amsterdam ...</td>\n",
       "      <td>194</td>\n",
       "      <td>8/3/2017</td>\n",
       "      <td>7.7</td>\n",
       "      <td>Hotel Arena</td>\n",
       "      <td>Ireland</td>\n",
       "      <td>No Negative</td>\n",
       "      <td>0</td>\n",
       "      <td>1403</td>\n",
       "      <td>No real complaints the hotel was great great ...</td>\n",
       "      <td>105</td>\n",
       "      <td>7</td>\n",
       "      <td>7.5</td>\n",
       "      <td>[' Leisure trip ', ' Couple ', ' Duplex Double...</td>\n",
       "      <td>0 days</td>\n",
       "      <td>52.360576</td>\n",
       "      <td>4.915968</td>\n",
       "    </tr>\n",
       "    <tr>\n",
       "      <th>2</th>\n",
       "      <td>s Gravesandestraat 55 Oost 1092 AA Amsterdam ...</td>\n",
       "      <td>194</td>\n",
       "      <td>7/31/2017</td>\n",
       "      <td>7.7</td>\n",
       "      <td>Hotel Arena</td>\n",
       "      <td>Australia</td>\n",
       "      <td>Rooms are nice but for elderly a bit difficul...</td>\n",
       "      <td>42</td>\n",
       "      <td>1403</td>\n",
       "      <td>Location was good and staff were ok It is cut...</td>\n",
       "      <td>21</td>\n",
       "      <td>9</td>\n",
       "      <td>7.1</td>\n",
       "      <td>[' Leisure trip ', ' Family with young childre...</td>\n",
       "      <td>3 days</td>\n",
       "      <td>52.360576</td>\n",
       "      <td>4.915968</td>\n",
       "    </tr>\n",
       "    <tr>\n",
       "      <th>3</th>\n",
       "      <td>s Gravesandestraat 55 Oost 1092 AA Amsterdam ...</td>\n",
       "      <td>194</td>\n",
       "      <td>7/31/2017</td>\n",
       "      <td>7.7</td>\n",
       "      <td>Hotel Arena</td>\n",
       "      <td>United Kingdom</td>\n",
       "      <td>My room was dirty and I was afraid to walk ba...</td>\n",
       "      <td>210</td>\n",
       "      <td>1403</td>\n",
       "      <td>Great location in nice surroundings the bar a...</td>\n",
       "      <td>26</td>\n",
       "      <td>1</td>\n",
       "      <td>3.8</td>\n",
       "      <td>[' Leisure trip ', ' Solo traveler ', ' Duplex...</td>\n",
       "      <td>3 days</td>\n",
       "      <td>52.360576</td>\n",
       "      <td>4.915968</td>\n",
       "    </tr>\n",
       "    <tr>\n",
       "      <th>4</th>\n",
       "      <td>s Gravesandestraat 55 Oost 1092 AA Amsterdam ...</td>\n",
       "      <td>194</td>\n",
       "      <td>7/24/2017</td>\n",
       "      <td>7.7</td>\n",
       "      <td>Hotel Arena</td>\n",
       "      <td>New Zealand</td>\n",
       "      <td>You When I booked with your company on line y...</td>\n",
       "      <td>140</td>\n",
       "      <td>1403</td>\n",
       "      <td>Amazing location and building Romantic setting</td>\n",
       "      <td>8</td>\n",
       "      <td>3</td>\n",
       "      <td>6.7</td>\n",
       "      <td>[' Leisure trip ', ' Couple ', ' Suite ', ' St...</td>\n",
       "      <td>10 days</td>\n",
       "      <td>52.360576</td>\n",
       "      <td>4.915968</td>\n",
       "    </tr>\n",
       "  </tbody>\n",
       "</table>\n",
       "</div>"
      ],
      "text/plain": [
       "                                       Hotel_Address  \\\n",
       "0   s Gravesandestraat 55 Oost 1092 AA Amsterdam ...   \n",
       "1   s Gravesandestraat 55 Oost 1092 AA Amsterdam ...   \n",
       "2   s Gravesandestraat 55 Oost 1092 AA Amsterdam ...   \n",
       "3   s Gravesandestraat 55 Oost 1092 AA Amsterdam ...   \n",
       "4   s Gravesandestraat 55 Oost 1092 AA Amsterdam ...   \n",
       "\n",
       "   Additional_Number_of_Scoring Review_Date  Average_Score   Hotel_Name  \\\n",
       "0                           194    8/3/2017            7.7  Hotel Arena   \n",
       "1                           194    8/3/2017            7.7  Hotel Arena   \n",
       "2                           194   7/31/2017            7.7  Hotel Arena   \n",
       "3                           194   7/31/2017            7.7  Hotel Arena   \n",
       "4                           194   7/24/2017            7.7  Hotel Arena   \n",
       "\n",
       "  Reviewer_Nationality                                    Negative_Review  \\\n",
       "0              Russia    I am so angry that i made this post available...   \n",
       "1             Ireland                                         No Negative   \n",
       "2           Australia    Rooms are nice but for elderly a bit difficul...   \n",
       "3      United Kingdom    My room was dirty and I was afraid to walk ba...   \n",
       "4         New Zealand    You When I booked with your company on line y...   \n",
       "\n",
       "   Review_Total_Negative_Word_Counts  Total_Number_of_Reviews  \\\n",
       "0                                397                     1403   \n",
       "1                                  0                     1403   \n",
       "2                                 42                     1403   \n",
       "3                                210                     1403   \n",
       "4                                140                     1403   \n",
       "\n",
       "                                     Positive_Review  \\\n",
       "0   Only the park outside of the hotel was beauti...   \n",
       "1   No real complaints the hotel was great great ...   \n",
       "2   Location was good and staff were ok It is cut...   \n",
       "3   Great location in nice surroundings the bar a...   \n",
       "4    Amazing location and building Romantic setting    \n",
       "\n",
       "   Review_Total_Positive_Word_Counts  \\\n",
       "0                                 11   \n",
       "1                                105   \n",
       "2                                 21   \n",
       "3                                 26   \n",
       "4                                  8   \n",
       "\n",
       "   Total_Number_of_Reviews_Reviewer_Has_Given  Reviewer_Score  \\\n",
       "0                                           7             2.9   \n",
       "1                                           7             7.5   \n",
       "2                                           9             7.1   \n",
       "3                                           1             3.8   \n",
       "4                                           3             6.7   \n",
       "\n",
       "                                                Tags days_since_review  \\\n",
       "0  [' Leisure trip ', ' Couple ', ' Duplex Double...            0 days   \n",
       "1  [' Leisure trip ', ' Couple ', ' Duplex Double...            0 days   \n",
       "2  [' Leisure trip ', ' Family with young childre...            3 days   \n",
       "3  [' Leisure trip ', ' Solo traveler ', ' Duplex...            3 days   \n",
       "4  [' Leisure trip ', ' Couple ', ' Suite ', ' St...           10 days   \n",
       "\n",
       "         lat       lng  \n",
       "0  52.360576  4.915968  \n",
       "1  52.360576  4.915968  \n",
       "2  52.360576  4.915968  \n",
       "3  52.360576  4.915968  \n",
       "4  52.360576  4.915968  "
      ]
     },
     "execution_count": 3,
     "metadata": {},
     "output_type": "execute_result"
    }
   ],
   "source": [
    "soubor = pd.read_csv('C:/Users/zbyne/Downloads/hotel_reviews.csv')\n",
    "len(soubor) #515738\n",
    "soubor.head(5)\n",
    "#Latitude and longitude = Zem�pisn� ���ka a zem�pisn� d�lka"
   ]
  },
  {
   "cell_type": "code",
   "execution_count": 4,
   "metadata": {},
   "outputs": [
    {
     "name": "stdout",
     "output_type": "stream",
     "text": [
      "526\n"
     ]
    }
   ],
   "source": [
    "soubor.info()"
   ]
  },
  {
   "cell_type": "code",
   "execution_count": 5,
   "metadata": {},
   "outputs": [
    {
     "data": {
      "text/plain": [
       "Hotel_Address                                 0.000000\n",
       "Additional_Number_of_Scoring                  0.000000\n",
       "Review_Date                                   0.000000\n",
       "Average_Score                                 0.000000\n",
       "Hotel_Name                                    0.000000\n",
       "Reviewer_Nationality                          0.000000\n",
       "Negative_Review                               0.000000\n",
       "Review_Total_Negative_Word_Counts             0.000000\n",
       "Total_Number_of_Reviews                       0.000000\n",
       "Positive_Review                               0.000000\n",
       "Review_Total_Positive_Word_Counts             0.000000\n",
       "Total_Number_of_Reviews_Reviewer_Has_Given    0.000000\n",
       "Reviewer_Score                                0.000000\n",
       "Tags                                          0.000000\n",
       "days_since_review                             0.000000\n",
       "lat                                           0.006337\n",
       "lng                                           0.006337\n",
       "dtype: float64"
      ]
     },
     "execution_count": 5,
     "metadata": {},
     "output_type": "execute_result"
    }
   ],
   "source": [
    "#chyb� n�jak� hodnoty?\n",
    "soubor.isna().sum()/(len(soubor))"
   ]
  },
  {
   "cell_type": "code",
   "execution_count": 6,
   "metadata": {},
   "outputs": [
    {
     "data": {
      "text/plain": [
       "1493"
      ]
     },
     "execution_count": 6,
     "metadata": {},
     "output_type": "execute_result"
    }
   ],
   "source": [
    "#po�et hotel� v souboru\n",
    "len(pd.unique(soubor['Hotel_Address']))"
   ]
  },
  {
   "cell_type": "code",
   "execution_count": 7,
   "metadata": {},
   "outputs": [
    {
     "data": {
      "text/html": [
       "<div>\n",
       "<style scoped>\n",
       "    .dataframe tbody tr th:only-of-type {\n",
       "        vertical-align: middle;\n",
       "    }\n",
       "\n",
       "    .dataframe tbody tr th {\n",
       "        vertical-align: top;\n",
       "    }\n",
       "\n",
       "    .dataframe thead th {\n",
       "        text-align: right;\n",
       "    }\n",
       "</style>\n",
       "<table border=\"1\" class=\"dataframe\">\n",
       "  <thead>\n",
       "    <tr style=\"text-align: right;\">\n",
       "      <th></th>\n",
       "      <th>Additional_Number_of_Scoring</th>\n",
       "      <th>Average_Score</th>\n",
       "      <th>Review_Total_Negative_Word_Counts</th>\n",
       "      <th>Total_Number_of_Reviews</th>\n",
       "      <th>Review_Total_Positive_Word_Counts</th>\n",
       "      <th>Total_Number_of_Reviews_Reviewer_Has_Given</th>\n",
       "      <th>Reviewer_Score</th>\n",
       "      <th>lat</th>\n",
       "      <th>lng</th>\n",
       "    </tr>\n",
       "    <tr>\n",
       "      <th>Hotel_Name</th>\n",
       "      <th></th>\n",
       "      <th></th>\n",
       "      <th></th>\n",
       "      <th></th>\n",
       "      <th></th>\n",
       "      <th></th>\n",
       "      <th></th>\n",
       "      <th></th>\n",
       "      <th></th>\n",
       "    </tr>\n",
       "  </thead>\n",
       "  <tbody>\n",
       "    <tr>\n",
       "      <th>11 Cadogan Gardens</th>\n",
       "      <td>101.0</td>\n",
       "      <td>8.7</td>\n",
       "      <td>15.528302</td>\n",
       "      <td>393.0</td>\n",
       "      <td>19.974843</td>\n",
       "      <td>7.226415</td>\n",
       "      <td>8.845283</td>\n",
       "      <td>51.493616</td>\n",
       "      <td>-0.159235</td>\n",
       "    </tr>\n",
       "    <tr>\n",
       "      <th>1K Hotel</th>\n",
       "      <td>69.0</td>\n",
       "      <td>7.7</td>\n",
       "      <td>24.932432</td>\n",
       "      <td>663.0</td>\n",
       "      <td>15.601351</td>\n",
       "      <td>9.141892</td>\n",
       "      <td>7.861486</td>\n",
       "      <td>48.863932</td>\n",
       "      <td>2.365874</td>\n",
       "    </tr>\n",
       "    <tr>\n",
       "      <th>25hours Hotel beim MuseumsQuartier</th>\n",
       "      <td>391.0</td>\n",
       "      <td>8.8</td>\n",
       "      <td>16.161103</td>\n",
       "      <td>4324.0</td>\n",
       "      <td>21.911466</td>\n",
       "      <td>8.722787</td>\n",
       "      <td>8.983309</td>\n",
       "      <td>48.206474</td>\n",
       "      <td>16.354630</td>\n",
       "    </tr>\n",
       "    <tr>\n",
       "      <th>41</th>\n",
       "      <td>66.0</td>\n",
       "      <td>9.6</td>\n",
       "      <td>8.883495</td>\n",
       "      <td>244.0</td>\n",
       "      <td>25.300971</td>\n",
       "      <td>6.009709</td>\n",
       "      <td>9.711650</td>\n",
       "      <td>51.498147</td>\n",
       "      <td>-0.143649</td>\n",
       "    </tr>\n",
       "    <tr>\n",
       "      <th>45 Park Lane Dorchester Collection</th>\n",
       "      <td>27.0</td>\n",
       "      <td>9.4</td>\n",
       "      <td>6.750000</td>\n",
       "      <td>68.0</td>\n",
       "      <td>11.535714</td>\n",
       "      <td>7.214286</td>\n",
       "      <td>9.603571</td>\n",
       "      <td>51.506371</td>\n",
       "      <td>-0.151536</td>\n",
       "    </tr>\n",
       "    <tr>\n",
       "      <th>...</th>\n",
       "      <td>...</td>\n",
       "      <td>...</td>\n",
       "      <td>...</td>\n",
       "      <td>...</td>\n",
       "      <td>...</td>\n",
       "      <td>...</td>\n",
       "      <td>...</td>\n",
       "      <td>...</td>\n",
       "      <td>...</td>\n",
       "    </tr>\n",
       "    <tr>\n",
       "      <th>citizenM London Bankside</th>\n",
       "      <td>804.0</td>\n",
       "      <td>9.1</td>\n",
       "      <td>13.977587</td>\n",
       "      <td>3802.0</td>\n",
       "      <td>20.856295</td>\n",
       "      <td>9.768622</td>\n",
       "      <td>9.112261</td>\n",
       "      <td>51.505151</td>\n",
       "      <td>-0.100472</td>\n",
       "    </tr>\n",
       "    <tr>\n",
       "      <th>citizenM London Shoreditch</th>\n",
       "      <td>500.0</td>\n",
       "      <td>9.1</td>\n",
       "      <td>14.439141</td>\n",
       "      <td>2113.0</td>\n",
       "      <td>21.620525</td>\n",
       "      <td>8.219570</td>\n",
       "      <td>9.092005</td>\n",
       "      <td>51.524137</td>\n",
       "      <td>-0.078698</td>\n",
       "    </tr>\n",
       "    <tr>\n",
       "      <th>citizenM Tower of London</th>\n",
       "      <td>832.0</td>\n",
       "      <td>9.1</td>\n",
       "      <td>15.623292</td>\n",
       "      <td>4672.0</td>\n",
       "      <td>24.430778</td>\n",
       "      <td>9.334522</td>\n",
       "      <td>9.135591</td>\n",
       "      <td>51.510237</td>\n",
       "      <td>-0.076443</td>\n",
       "    </tr>\n",
       "    <tr>\n",
       "      <th>every hotel Piccadilly</th>\n",
       "      <td>326.0</td>\n",
       "      <td>8.8</td>\n",
       "      <td>12.846831</td>\n",
       "      <td>1685.0</td>\n",
       "      <td>16.434859</td>\n",
       "      <td>6.468310</td>\n",
       "      <td>8.967782</td>\n",
       "      <td>51.510146</td>\n",
       "      <td>-0.131506</td>\n",
       "    </tr>\n",
       "    <tr>\n",
       "      <th>pentahotel Vienna</th>\n",
       "      <td>63.0</td>\n",
       "      <td>8.5</td>\n",
       "      <td>17.922481</td>\n",
       "      <td>805.0</td>\n",
       "      <td>16.124031</td>\n",
       "      <td>12.875969</td>\n",
       "      <td>8.363566</td>\n",
       "      <td>48.189974</td>\n",
       "      <td>16.356701</td>\n",
       "    </tr>\n",
       "  </tbody>\n",
       "</table>\n",
       "<p>1492 rows � 9 columns</p>\n",
       "</div>"
      ],
      "text/plain": [
       "                                    Additional_Number_of_Scoring  \\\n",
       "Hotel_Name                                                         \n",
       "11 Cadogan Gardens                                         101.0   \n",
       "1K Hotel                                                    69.0   \n",
       "25hours Hotel beim MuseumsQuartier                         391.0   \n",
       "41                                                          66.0   \n",
       "45 Park Lane Dorchester Collection                          27.0   \n",
       "...                                                          ...   \n",
       "citizenM London Bankside                                   804.0   \n",
       "citizenM London Shoreditch                                 500.0   \n",
       "citizenM Tower of London                                   832.0   \n",
       "every hotel Piccadilly                                     326.0   \n",
       "pentahotel Vienna                                           63.0   \n",
       "\n",
       "                                    Average_Score  \\\n",
       "Hotel_Name                                          \n",
       "11 Cadogan Gardens                            8.7   \n",
       "1K Hotel                                      7.7   \n",
       "25hours Hotel beim MuseumsQuartier            8.8   \n",
       "41                                            9.6   \n",
       "45 Park Lane Dorchester Collection            9.4   \n",
       "...                                           ...   \n",
       "citizenM London Bankside                      9.1   \n",
       "citizenM London Shoreditch                    9.1   \n",
       "citizenM Tower of London                      9.1   \n",
       "every hotel Piccadilly                        8.8   \n",
       "pentahotel Vienna                             8.5   \n",
       "\n",
       "                                    Review_Total_Negative_Word_Counts  \\\n",
       "Hotel_Name                                                              \n",
       "11 Cadogan Gardens                                          15.528302   \n",
       "1K Hotel                                                    24.932432   \n",
       "25hours Hotel beim MuseumsQuartier                          16.161103   \n",
       "41                                                           8.883495   \n",
       "45 Park Lane Dorchester Collection                           6.750000   \n",
       "...                                                               ...   \n",
       "citizenM London Bankside                                    13.977587   \n",
       "citizenM London Shoreditch                                  14.439141   \n",
       "citizenM Tower of London                                    15.623292   \n",
       "every hotel Piccadilly                                      12.846831   \n",
       "pentahotel Vienna                                           17.922481   \n",
       "\n",
       "                                    Total_Number_of_Reviews  \\\n",
       "Hotel_Name                                                    \n",
       "11 Cadogan Gardens                                    393.0   \n",
       "1K Hotel                                              663.0   \n",
       "25hours Hotel beim MuseumsQuartier                   4324.0   \n",
       "41                                                    244.0   \n",
       "45 Park Lane Dorchester Collection                     68.0   \n",
       "...                                                     ...   \n",
       "citizenM London Bankside                             3802.0   \n",
       "citizenM London Shoreditch                           2113.0   \n",
       "citizenM Tower of London                             4672.0   \n",
       "every hotel Piccadilly                               1685.0   \n",
       "pentahotel Vienna                                     805.0   \n",
       "\n",
       "                                    Review_Total_Positive_Word_Counts  \\\n",
       "Hotel_Name                                                              \n",
       "11 Cadogan Gardens                                          19.974843   \n",
       "1K Hotel                                                    15.601351   \n",
       "25hours Hotel beim MuseumsQuartier                          21.911466   \n",
       "41                                                          25.300971   \n",
       "45 Park Lane Dorchester Collection                          11.535714   \n",
       "...                                                               ...   \n",
       "citizenM London Bankside                                    20.856295   \n",
       "citizenM London Shoreditch                                  21.620525   \n",
       "citizenM Tower of London                                    24.430778   \n",
       "every hotel Piccadilly                                      16.434859   \n",
       "pentahotel Vienna                                           16.124031   \n",
       "\n",
       "                                    Total_Number_of_Reviews_Reviewer_Has_Given  \\\n",
       "Hotel_Name                                                                       \n",
       "11 Cadogan Gardens                                                    7.226415   \n",
       "1K Hotel                                                              9.141892   \n",
       "25hours Hotel beim MuseumsQuartier                                    8.722787   \n",
       "41                                                                    6.009709   \n",
       "45 Park Lane Dorchester Collection                                    7.214286   \n",
       "...                                                                        ...   \n",
       "citizenM London Bankside                                              9.768622   \n",
       "citizenM London Shoreditch                                            8.219570   \n",
       "citizenM Tower of London                                              9.334522   \n",
       "every hotel Piccadilly                                                6.468310   \n",
       "pentahotel Vienna                                                    12.875969   \n",
       "\n",
       "                                    Reviewer_Score        lat        lng  \n",
       "Hotel_Name                                                                \n",
       "11 Cadogan Gardens                        8.845283  51.493616  -0.159235  \n",
       "1K Hotel                                  7.861486  48.863932   2.365874  \n",
       "25hours Hotel beim MuseumsQuartier        8.983309  48.206474  16.354630  \n",
       "41                                        9.711650  51.498147  -0.143649  \n",
       "45 Park Lane Dorchester Collection        9.603571  51.506371  -0.151536  \n",
       "...                                            ...        ...        ...  \n",
       "citizenM London Bankside                  9.112261  51.505151  -0.100472  \n",
       "citizenM London Shoreditch                9.092005  51.524137  -0.078698  \n",
       "citizenM Tower of London                  9.135591  51.510237  -0.076443  \n",
       "every hotel Piccadilly                    8.967782  51.510146  -0.131506  \n",
       "pentahotel Vienna                         8.363566  48.189974  16.356701  \n",
       "\n",
       "[1492 rows x 9 columns]"
      ]
     },
     "execution_count": 7,
     "metadata": {},
     "output_type": "execute_result"
    }
   ],
   "source": [
    "#z�kladn� p�ehled\n",
    "soubor.groupby(['Hotel_Name']).mean()"
   ]
  },
  {
   "cell_type": "code",
   "execution_count": 8,
   "metadata": {},
   "outputs": [
    {
     "data": {
      "text/plain": [
       "<AxesSubplot:xlabel='Reviewer_Score', ylabel='count'>"
      ]
     },
     "execution_count": 8,
     "metadata": {},
     "output_type": "execute_result"
    },
    {
     "data": {
      "image/png": "[encoded data removed]",
      "text/plain": [
       "<Figure size 432x288 with 1 Axes>"
      ]
     },
     "metadata": {
      "needs_background": "light"
     },
     "output_type": "display_data"
    }
   ],
   "source": [
    "#rozlo�en� sk�re recenz�, n� upln� p�kn�.\n",
    "df = soubor['Reviewer_Score']\n",
    "sns.countplot(x=\"Reviewer_Score\",data=soubor,palette=\"RdYlGn\")"
   ]
  },
  {
   "cell_type": "code",
   "execution_count": 9,
   "metadata": {},
   "outputs": [
    {
     "data": {
      "text/plain": [
       "<AxesSubplot:xlabel='P/N', ylabel='count'>"
      ]
     },
     "execution_count": 9,
     "metadata": {},
     "output_type": "execute_result"
    },
    {
     "data": {
      "image/png": "[encoded data removed]",
      "text/plain": [
       "<Figure size 432x288 with 1 Axes>"
      ]
     },
     "metadata": {
      "needs_background": "light"
     },
     "output_type": "display_data"
    }
   ],
   "source": [
    "#pokus o rozd�len� hodnot na z�klad� reviewer score dle hranice  0-6 negativn� ...\n",
    "soubor[\"P/N\"] = pd.cut(soubor[\"Reviewer_Score\"], \n",
    "                   bins=[0,6,10], \n",
    "                   labels=[\"Negative\",\"Positive\"],right=True)\n",
    "sns.countplot(x=\"P/N\",data=soubor,palette=\"RdYlGn\")"
   ]
  },
  {
   "cell_type": "code",
   "execution_count": 10,
   "metadata": {},
   "outputs": [
    {
     "data": {
      "text/html": [
       "<div>\n",
       "<style scoped>\n",
       "    .dataframe tbody tr th:only-of-type {\n",
       "        vertical-align: middle;\n",
       "    }\n",
       "\n",
       "    .dataframe tbody tr th {\n",
       "        vertical-align: top;\n",
       "    }\n",
       "\n",
       "    .dataframe thead th {\n",
       "        text-align: right;\n",
       "    }\n",
       "</style>\n",
       "<table border=\"1\" class=\"dataframe\">\n",
       "  <thead>\n",
       "    <tr style=\"text-align: right;\">\n",
       "      <th></th>\n",
       "      <th>Reviewer_Nationality</th>\n",
       "    </tr>\n",
       "    <tr>\n",
       "      <th>P/N</th>\n",
       "      <th></th>\n",
       "    </tr>\n",
       "  </thead>\n",
       "  <tbody>\n",
       "    <tr>\n",
       "      <th>Negative</th>\n",
       "      <td>52760</td>\n",
       "    </tr>\n",
       "    <tr>\n",
       "      <th>Positive</th>\n",
       "      <td>462978</td>\n",
       "    </tr>\n",
       "  </tbody>\n",
       "</table>\n",
       "</div>"
      ],
      "text/plain": [
       "          Reviewer_Nationality\n",
       "P/N                           \n",
       "Negative                 52760\n",
       "Positive                462978"
      ]
     },
     "execution_count": 10,
     "metadata": {},
     "output_type": "execute_result"
    }
   ],
   "source": [
    "subset = soubor[['Reviewer_Nationality','P/N']]\n",
    "subset.groupby(\"P/N\").count()"
   ]
  },
  {
   "cell_type": "code",
   "execution_count": 11,
   "metadata": {},
   "outputs": [],
   "source": [
    "stat = soubor['Hotel_Address']"
   ]
  },
  {
   "cell_type": "code",
   "execution_count": 12,
   "metadata": {},
   "outputs": [
    {
     "name": "stdout",
     "output_type": "stream",
     "text": [
      "['10', 'rue', 'de', 'Bruxelles', '9th', 'arr', '75009', 'Paris', 'France']\n"
     ]
    }
   ],
   "source": [
    "print ([token.text for token in nlp(stat[22000])])"
   ]
  },
  {
   "cell_type": "code",
   "execution_count": 13,
   "metadata": {},
   "outputs": [
    {
     "data": {
      "text/plain": [
       "'Kingdom'"
      ]
     },
     "execution_count": 13,
     "metadata": {},
     "output_type": "execute_result"
    }
   ],
   "source": [
    "x = [token.text for token in nlp(stat[10000])]\n",
    "x[-1]"
   ]
  },
  {
   "cell_type": "code",
   "execution_count": 15,
   "metadata": {},
   "outputs": [
    {
     "name": "stdout",
     "output_type": "stream",
     "text": [
      "Transformation was successful.\n"
     ]
    }
   ],
   "source": [
    "#extrahovani statu z adres hotel� a n�sledn� p�id�n� st�t� do df\n",
    "stat = soubor['Hotel_Address']\n",
    "staty = []\n",
    "\n",
    "for i in range(0,len(soubor)):\n",
    "    x = [token.text for token in nlp(stat[i])][-1]\n",
    "    if x == \"Kingdom\":\n",
    "        x = 'United Kingdom'\n",
    "    staty.append(x)\n",
    "\n",
    "soubor['stat'] = staty\n",
    "print('Transformation was successful.')"
   ]
  },
  {
   "cell_type": "code",
   "execution_count": 16,
   "metadata": {},
   "outputs": [
    {
     "data": {
      "text/plain": [
       "array(['Netherlands', 'United Kingdom', 'France', 'Spain', 'Italy',\n",
       "       'Austria'], dtype=object)"
      ]
     },
     "execution_count": 16,
     "metadata": {},
     "output_type": "execute_result"
    }
   ],
   "source": [
    "#kontrola\n",
    "pd.unique(soubor['stat'])"
   ]
  },
  {
   "cell_type": "code",
   "execution_count": 18,
   "metadata": {},
   "outputs": [
    {
     "data": {
      "text/html": [
       "<div>\n",
       "<style scoped>\n",
       "    .dataframe tbody tr th:only-of-type {\n",
       "        vertical-align: middle;\n",
       "    }\n",
       "\n",
       "    .dataframe tbody tr th {\n",
       "        vertical-align: top;\n",
       "    }\n",
       "\n",
       "    .dataframe thead th {\n",
       "        text-align: right;\n",
       "    }\n",
       "</style>\n",
       "<table border=\"1\" class=\"dataframe\">\n",
       "  <thead>\n",
       "    <tr style=\"text-align: right;\">\n",
       "      <th></th>\n",
       "      <th>Hotel_Address</th>\n",
       "      <th>Additional_Number_of_Scoring</th>\n",
       "      <th>Review_Date</th>\n",
       "      <th>Average_Score</th>\n",
       "      <th>Hotel_Name</th>\n",
       "      <th>Reviewer_Nationality</th>\n",
       "      <th>Negative_Review</th>\n",
       "      <th>Review_Total_Negative_Word_Counts</th>\n",
       "      <th>Total_Number_of_Reviews</th>\n",
       "      <th>Positive_Review</th>\n",
       "      <th>Review_Total_Positive_Word_Counts</th>\n",
       "      <th>Total_Number_of_Reviews_Reviewer_Has_Given</th>\n",
       "      <th>Reviewer_Score</th>\n",
       "      <th>Tags</th>\n",
       "      <th>days_since_review</th>\n",
       "      <th>lat</th>\n",
       "      <th>lng</th>\n",
       "      <th>P/N</th>\n",
       "      <th>stat</th>\n",
       "    </tr>\n",
       "  </thead>\n",
       "  <tbody>\n",
       "    <tr>\n",
       "      <th>0</th>\n",
       "      <td>s Gravesandestraat 55 Oost 1092 AA Amsterdam ...</td>\n",
       "      <td>194</td>\n",
       "      <td>8/3/2017</td>\n",
       "      <td>7.7</td>\n",
       "      <td>Hotel Arena</td>\n",
       "      <td>Russia</td>\n",
       "      <td>I am so angry that i made this post available...</td>\n",
       "      <td>397</td>\n",
       "      <td>1403</td>\n",
       "      <td>Only the park outside of the hotel was beauti...</td>\n",
       "      <td>11</td>\n",
       "      <td>7</td>\n",
       "      <td>2.9</td>\n",
       "      <td>[' Leisure trip ', ' Couple ', ' Duplex Double...</td>\n",
       "      <td>0 days</td>\n",
       "      <td>52.360576</td>\n",
       "      <td>4.915968</td>\n",
       "      <td>Negative</td>\n",
       "      <td>Netherlands</td>\n",
       "    </tr>\n",
       "    <tr>\n",
       "      <th>1</th>\n",
       "      <td>s Gravesandestraat 55 Oost 1092 AA Amsterdam ...</td>\n",
       "      <td>194</td>\n",
       "      <td>8/3/2017</td>\n",
       "      <td>7.7</td>\n",
       "      <td>Hotel Arena</td>\n",
       "      <td>Ireland</td>\n",
       "      <td>No Negative</td>\n",
       "      <td>0</td>\n",
       "      <td>1403</td>\n",
       "      <td>No real complaints the hotel was great great ...</td>\n",
       "      <td>105</td>\n",
       "      <td>7</td>\n",
       "      <td>7.5</td>\n",
       "      <td>[' Leisure trip ', ' Couple ', ' Duplex Double...</td>\n",
       "      <td>0 days</td>\n",
       "      <td>52.360576</td>\n",
       "      <td>4.915968</td>\n",
       "      <td>Positive</td>\n",
       "      <td>Netherlands</td>\n",
       "    </tr>\n",
       "    <tr>\n",
       "      <th>2</th>\n",
       "      <td>s Gravesandestraat 55 Oost 1092 AA Amsterdam ...</td>\n",
       "      <td>194</td>\n",
       "      <td>7/31/2017</td>\n",
       "      <td>7.7</td>\n",
       "      <td>Hotel Arena</td>\n",
       "      <td>Australia</td>\n",
       "      <td>Rooms are nice but for elderly a bit difficul...</td>\n",
       "      <td>42</td>\n",
       "      <td>1403</td>\n",
       "      <td>Location was good and staff were ok It is cut...</td>\n",
       "      <td>21</td>\n",
       "      <td>9</td>\n",
       "      <td>7.1</td>\n",
       "      <td>[' Leisure trip ', ' Family with young childre...</td>\n",
       "      <td>3 days</td>\n",
       "      <td>52.360576</td>\n",
       "      <td>4.915968</td>\n",
       "      <td>Positive</td>\n",
       "      <td>Netherlands</td>\n",
       "    </tr>\n",
       "  </tbody>\n",
       "</table>\n",
       "</div>"
      ],
      "text/plain": [
       "                                       Hotel_Address  \\\n",
       "0   s Gravesandestraat 55 Oost 1092 AA Amsterdam ...   \n",
       "1   s Gravesandestraat 55 Oost 1092 AA Amsterdam ...   \n",
       "2   s Gravesandestraat 55 Oost 1092 AA Amsterdam ...   \n",
       "\n",
       "   Additional_Number_of_Scoring Review_Date  Average_Score   Hotel_Name  \\\n",
       "0                           194    8/3/2017            7.7  Hotel Arena   \n",
       "1                           194    8/3/2017            7.7  Hotel Arena   \n",
       "2                           194   7/31/2017            7.7  Hotel Arena   \n",
       "\n",
       "  Reviewer_Nationality                                    Negative_Review  \\\n",
       "0              Russia    I am so angry that i made this post available...   \n",
       "1             Ireland                                         No Negative   \n",
       "2           Australia    Rooms are nice but for elderly a bit difficul...   \n",
       "\n",
       "   Review_Total_Negative_Word_Counts  Total_Number_of_Reviews  \\\n",
       "0                                397                     1403   \n",
       "1                                  0                     1403   \n",
       "2                                 42                     1403   \n",
       "\n",
       "                                     Positive_Review  \\\n",
       "0   Only the park outside of the hotel was beauti...   \n",
       "1   No real complaints the hotel was great great ...   \n",
       "2   Location was good and staff were ok It is cut...   \n",
       "\n",
       "   Review_Total_Positive_Word_Counts  \\\n",
       "0                                 11   \n",
       "1                                105   \n",
       "2                                 21   \n",
       "\n",
       "   Total_Number_of_Reviews_Reviewer_Has_Given  Reviewer_Score  \\\n",
       "0                                           7             2.9   \n",
       "1                                           7             7.5   \n",
       "2                                           9             7.1   \n",
       "\n",
       "                                                Tags days_since_review  \\\n",
       "0  [' Leisure trip ', ' Couple ', ' Duplex Double...            0 days   \n",
       "1  [' Leisure trip ', ' Couple ', ' Duplex Double...            0 days   \n",
       "2  [' Leisure trip ', ' Family with young childre...            3 days   \n",
       "\n",
       "         lat       lng       P/N         stat  \n",
       "0  52.360576  4.915968  Negative  Netherlands  \n",
       "1  52.360576  4.915968  Positive  Netherlands  \n",
       "2  52.360576  4.915968  Positive  Netherlands  "
      ]
     },
     "execution_count": 18,
     "metadata": {},
     "output_type": "execute_result"
    }
   ],
   "source": [
    "#kontrola\n",
    "soubor.head(3)"
   ]
  },
  {
   "cell_type": "code",
   "execution_count": 19,
   "metadata": {},
   "outputs": [
    {
     "data": {
      "text/plain": [
       "[('room', 4292),\n",
       " ('hotel', 1446),\n",
       " ('breakfast', 859),\n",
       " ('bed', 807),\n",
       " ('bathroom', 633),\n",
       " ('staff', 617),\n",
       " ('night', 592),\n",
       " ('time', 504),\n",
       " ('shower', 476),\n",
       " ('bit', 438)]"
      ]
     },
     "execution_count": 19,
     "metadata": {},
     "output_type": "execute_result"
    }
   ],
   "source": [
    "#Nej�ast�j�� podstatn� jm�na v negativn�ch recenz�ch na vzorku ze souboru\n",
    "vzorek = soubor[0:9000]\n",
    "\n",
    "vzorek_negative_review_list = list(vzorek['Negative_Review'])\n",
    "delimiter = ','\n",
    "final_str = delimiter.join(map(str, vzorek_negative_review_list))\n",
    "doc = nlp(final_str)\n",
    "nouns = [token.lemma_ for token in doc if token.is_stop != True and token.is_punct != True and token.pos_ == 'NOUN']\n",
    "word_freq = Counter(nouns)\n",
    "word_freq.most_common(10)"
   ]
  },
  {
   "cell_type": "code",
   "execution_count": 20,
   "metadata": {},
   "outputs": [
    {
     "data": {
      "text/plain": [
       "[('book', 437),\n",
       " ('pay', 396),\n",
       " ('stay', 378),\n",
       " ('ask', 357),\n",
       " ('need', 331),\n",
       " ('get', 306),\n",
       " ('tell', 284),\n",
       " ('work', 270),\n",
       " ('go', 249),\n",
       " ('give', 249)]"
      ]
     },
     "execution_count": 20,
     "metadata": {},
     "output_type": "execute_result"
    }
   ],
   "source": [
    "#Nej�ast�j�� slovesa v negativn�ch recenz�ch na vzorku prvnich 9000 ze souboru\n",
    "vzorek = soubor[0:9000]\n",
    "\n",
    "vzorek_negative_review_list = list(vzorek['Negative_Review'])\n",
    "delimiter = ','\n",
    "final_str = delimiter.join(map(str, vzorek_negative_review_list))\n",
    "doc = nlp(final_str)\n",
    "verbs = [token.lemma_ for token in doc if token.is_stop != True and token.is_punct != True and token.pos_ == 'VERB']\n",
    "word_freq = Counter(verbs)\n",
    "word_freq.most_common(10)"
   ]
  },
  {
   "cell_type": "code",
   "execution_count": 21,
   "metadata": {},
   "outputs": [],
   "source": [
    "#p��davn� jm�na spojena s n�j�ast�j��mi podst. jm�ny v negativn�ch recenz� na vzorku 9000\n",
    "\n",
    "pattern = [{'POS': 'ADJ'},{'TEXT': 'room'}]\n",
    "list1 = []\n",
    "matcher = Matcher(nlp.vocab)\n",
    "matcher.add('ADJ_NOUN_PATTERN', None, pattern)\n",
    "\n",
    "for i in range(0,len(vzorek)):\n",
    "    doc = nlp(vzorek.iloc[i,6])\n",
    "    matches = matcher(doc)\n",
    "    for match_id, start, end in matches:\n",
    "        list1.append(doc[start:end].text)\n",
    "\n"
   ]
  },
  {
   "cell_type": "code",
   "execution_count": 22,
   "metadata": {},
   "outputs": [],
   "source": [
    "from collections import Counter\n",
    "def most_frequent(List):\n",
    "    List = [x.lower() for x in List]\n",
    "    occurence_count = Counter(List)\n",
    "    return occurence_count.most_common(5)"
   ]
  },
  {
   "cell_type": "code",
   "execution_count": 23,
   "metadata": {},
   "outputs": [
    {
     "name": "stdout",
     "output_type": "stream",
     "text": [
      "[('small room', 128), ('double room', 75), ('twin room', 38), ('wet room', 33), ('tiny room', 33)]\n"
     ]
    }
   ],
   "source": [
    "print(most_frequent(list1))"
   ]
  },
  {
   "cell_type": "code",
   "execution_count": 24,
   "metadata": {},
   "outputs": [],
   "source": [
    "#p��davn� jm�na spojena s n�j�ast�j��mi podst. jm�nem \"ROOM\" v negativn�ch recenz� na souboru\n",
    "\n",
    "pattern = [{'POS': 'ADJ'},{'TEXT': 'room'}]\n",
    "list1 = []\n",
    "matcher = Matcher(nlp.vocab)\n",
    "matcher.add('ADJ_NOUN_PATTERN', None, pattern)\n",
    "\n",
    "for i in range(0,len(soubor)):\n",
    "    doc = nlp(soubor.iloc[i,6])\n",
    "    matches = matcher(doc)\n",
    "    for match_id, start, end in matches:\n",
    "        list1.append(doc[start:end].text)\n",
    "\n"
   ]
  },
  {
   "cell_type": "code",
   "execution_count": 25,
   "metadata": {},
   "outputs": [
    {
     "name": "stdout",
     "output_type": "stream",
     "text": [
      "[('small room', 4952), ('double room', 2126), ('single room', 1172), ('twin room', 1094), ('first room', 1056)]\n"
     ]
    }
   ],
   "source": [
    "print(most_frequent(list1))"
   ]
  },
  {
   "cell_type": "code",
   "execution_count": 33,
   "metadata": {},
   "outputs": [],
   "source": [
    "#p��davn� jm�na spojena s n�j�ast�j��mi podst. jm�nem \"Breakfast\" v negativn�ch recenz� na souboru\n",
    "\n",
    "pattern = [{'POS': 'ADJ'},{'TEXT': 'breakfast'}]\n",
    "list_breakfast = []\n",
    "matcher = Matcher(nlp.vocab)\n",
    "matcher.add('ADJ_NOUN_PATTERN', None, pattern)\n",
    "\n",
    "for i in range(0,len(soubor)):\n",
    "    doc = nlp(soubor.iloc[i,6])\n",
    "    matches = matcher(doc)\n",
    "    for match_id, start, end in matches:\n",
    "        list_breakfast.append(doc[start:end].text)"
   ]
  },
  {
   "cell_type": "code",
   "execution_count": 34,
   "metadata": {},
   "outputs": [
    {
     "name": "stdout",
     "output_type": "stream",
     "text": [
      "[('expensive breakfast', 737), ('poor breakfast', 724), ('continental breakfast', 715), ('english breakfast', 629), ('cooked breakfast', 464)]\n"
     ]
    }
   ],
   "source": [
    "print(most_frequent(list_breakfast))"
   ]
  },
  {
   "cell_type": "code",
   "execution_count": 28,
   "metadata": {},
   "outputs": [
    {
     "data": {
      "text/plain": [
       "<AxesSubplot:xlabel='st�t', ylabel='rel_pocty'>"
      ]
     },
     "execution_count": 28,
     "metadata": {},
     "output_type": "execute_result"
    },
    {
     "data": {
      "image/png": "[encoded data removed]",
      "text/plain": [
       "<Figure size 432x288 with 1 Axes>"
      ]
     },
     "metadata": {
      "needs_background": "light"
     },
     "output_type": "display_data"
    }
   ],
   "source": [
    "#relativn� po�ty recenz� k hotel�m, resp. kolik recenz� se stahovalo k jak� zemi\n",
    "import seaborn as sns\n",
    "rel_l = []\n",
    "rel_ln = ['United Kingdom','Spain','France','Netherlands','Austria','Italy']\n",
    "for i in list(soubor['stat'].value_counts()):\n",
    "    rel = i/len(soubor)\n",
    "    rel_l.append(rel)\n",
    "temp = pd.DataFrame()\n",
    "temp['st�t'] = rel_ln\n",
    "temp ['rel_pocty'] = rel_l\n",
    "temp\n",
    "sns.barplot(y='rel_pocty',x=\"st�t\",data=temp,palette=\"rocket\")"
   ]
  },
  {
   "cell_type": "code",
   "execution_count": 29,
   "metadata": {},
   "outputs": [
    {
     "data": {
      "text/plain": [
       "<AxesSubplot:xlabel='Reviewer_Nationality', ylabel='count'>"
      ]
     },
     "execution_count": 29,
     "metadata": {},
     "output_type": "execute_result"
    },
    {
     "data": {
      "image/png": "[encoded data removed]",
      "text/plain": [
       "<Figure size 432x288 with 1 Axes>"
      ]
     },
     "metadata": {
      "needs_background": "light"
     },
     "output_type": "display_data"
    }
   ],
   "source": [
    "#nej�ast�j�� n�rodnost host� - 3\n",
    "sns.countplot(x='Reviewer_Nationality',data=soubor,palette=\"rocket\",order=soubor.Reviewer_Nationality.value_counts().iloc[:3].index)"
   ]
  },
  {
   "cell_type": "code",
   "execution_count": 30,
   "metadata": {},
   "outputs": [
    {
     "data": {
      "text/plain": [
       " United Kingdom               245246\n",
       " United States of America      35437\n",
       " Australia                     21686\n",
       " Ireland                       14827\n",
       " United Arab Emirates          10235\n",
       "                               ...  \n",
       " Anguilla                          1\n",
       " Tuvalu                            1\n",
       " Svalbard Jan Mayen                1\n",
       " Palau                             1\n",
       " Northern Mariana Islands          1\n",
       "Name: Reviewer_Nationality, Length: 227, dtype: int64"
      ]
     },
     "execution_count": 30,
     "metadata": {},
     "output_type": "execute_result"
    }
   ],
   "source": [
    "#absolutn� po�ty nej�ast�j��ch n�rodnost�\n",
    "soubor['Reviewer_Nationality'].value_counts()"
   ]
  },
  {
   "cell_type": "code",
   "execution_count": 31,
   "metadata": {},
   "outputs": [
    {
     "data": {
      "text/html": [
       "<div>\n",
       "<style scoped>\n",
       "    .dataframe tbody tr th:only-of-type {\n",
       "        vertical-align: middle;\n",
       "    }\n",
       "\n",
       "    .dataframe tbody tr th {\n",
       "        vertical-align: top;\n",
       "    }\n",
       "\n",
       "    .dataframe thead th {\n",
       "        text-align: right;\n",
       "    }\n",
       "</style>\n",
       "<table border=\"1\" class=\"dataframe\">\n",
       "  <thead>\n",
       "    <tr style=\"text-align: right;\">\n",
       "      <th>stat</th>\n",
       "      <th>Austria</th>\n",
       "      <th>France</th>\n",
       "      <th>Italy</th>\n",
       "      <th>Netherlands</th>\n",
       "      <th>Spain</th>\n",
       "      <th>United Kingdom</th>\n",
       "      <th>All</th>\n",
       "    </tr>\n",
       "    <tr>\n",
       "      <th>Reviewer_Nationality</th>\n",
       "      <th></th>\n",
       "      <th></th>\n",
       "      <th></th>\n",
       "      <th></th>\n",
       "      <th></th>\n",
       "      <th></th>\n",
       "      <th></th>\n",
       "    </tr>\n",
       "  </thead>\n",
       "  <tbody>\n",
       "    <tr>\n",
       "      <th>Australia</th>\n",
       "      <td>1680</td>\n",
       "      <td>3904</td>\n",
       "      <td>2677</td>\n",
       "      <td>2045</td>\n",
       "      <td>2907</td>\n",
       "      <td>8473</td>\n",
       "      <td>21686</td>\n",
       "    </tr>\n",
       "    <tr>\n",
       "      <th>Czech Republic</th>\n",
       "      <td>832</td>\n",
       "      <td>198</td>\n",
       "      <td>306</td>\n",
       "      <td>231</td>\n",
       "      <td>280</td>\n",
       "      <td>464</td>\n",
       "      <td>2311</td>\n",
       "    </tr>\n",
       "    <tr>\n",
       "      <th>Ireland</th>\n",
       "      <td>710</td>\n",
       "      <td>1327</td>\n",
       "      <td>607</td>\n",
       "      <td>3029</td>\n",
       "      <td>2134</td>\n",
       "      <td>7020</td>\n",
       "      <td>14827</td>\n",
       "    </tr>\n",
       "    <tr>\n",
       "      <th>Slovakia</th>\n",
       "      <td>306</td>\n",
       "      <td>73</td>\n",
       "      <td>130</td>\n",
       "      <td>109</td>\n",
       "      <td>108</td>\n",
       "      <td>177</td>\n",
       "      <td>903</td>\n",
       "    </tr>\n",
       "    <tr>\n",
       "      <th>United Arab Emirates</th>\n",
       "      <td>1163</td>\n",
       "      <td>1539</td>\n",
       "      <td>1241</td>\n",
       "      <td>1097</td>\n",
       "      <td>1331</td>\n",
       "      <td>3864</td>\n",
       "      <td>10235</td>\n",
       "    </tr>\n",
       "    <tr>\n",
       "      <th>United Kingdom</th>\n",
       "      <td>7507</td>\n",
       "      <td>16908</td>\n",
       "      <td>6205</td>\n",
       "      <td>23016</td>\n",
       "      <td>20961</td>\n",
       "      <td>170649</td>\n",
       "      <td>245246</td>\n",
       "    </tr>\n",
       "    <tr>\n",
       "      <th>United States of America</th>\n",
       "      <td>3104</td>\n",
       "      <td>7279</td>\n",
       "      <td>3082</td>\n",
       "      <td>4792</td>\n",
       "      <td>6169</td>\n",
       "      <td>11011</td>\n",
       "      <td>35437</td>\n",
       "    </tr>\n",
       "    <tr>\n",
       "      <th>All</th>\n",
       "      <td>15302</td>\n",
       "      <td>31228</td>\n",
       "      <td>14248</td>\n",
       "      <td>34319</td>\n",
       "      <td>33890</td>\n",
       "      <td>201658</td>\n",
       "      <td>330645</td>\n",
       "    </tr>\n",
       "  </tbody>\n",
       "</table>\n",
       "</div>"
      ],
      "text/plain": [
       "stat                        Austria  France  Italy  Netherlands  Spain  \\\n",
       "Reviewer_Nationality                                                     \n",
       " Australia                     1680    3904   2677         2045   2907   \n",
       " Czech Republic                 832     198    306          231    280   \n",
       " Ireland                        710    1327    607         3029   2134   \n",
       " Slovakia                       306      73    130          109    108   \n",
       " United Arab Emirates          1163    1539   1241         1097   1331   \n",
       " United Kingdom                7507   16908   6205        23016  20961   \n",
       " United States of America      3104    7279   3082         4792   6169   \n",
       "All                           15302   31228  14248        34319  33890   \n",
       "\n",
       "stat                        United Kingdom     All  \n",
       "Reviewer_Nationality                                \n",
       " Australia                            8473   21686  \n",
       " Czech Republic                        464    2311  \n",
       " Ireland                              7020   14827  \n",
       " Slovakia                              177     903  \n",
       " United Arab Emirates                 3864   10235  \n",
       " United Kingdom                     170649  245246  \n",
       " United States of America            11011   35437  \n",
       "All                                 201658  330645  "
      ]
     },
     "execution_count": 31,
     "metadata": {},
     "output_type": "execute_result"
    }
   ],
   "source": [
    "#kontingen�n� tabulka\n",
    "mask = soubor['Reviewer_Nationality'].isin([' United Kingdom ',' United States of America ', ' Australia ',' Ireland ',' United Arab Emirates ',' Slovakia ', ' Czech Republic '])\n",
    "table = soubor[mask].pivot_table(\n",
    "        values='Hotel_Address', \n",
    "        index='Reviewer_Nationality',\n",
    "        columns='stat', \n",
    "        aggfunc='count', \n",
    "        margins=True\n",
    "    )\n",
    "table"
   ]
  },
  {
   "cell_type": "code",
   "execution_count": 35,
   "metadata": {
    "scrolled": true
   },
   "outputs": [
    {
     "data": {
      "text/plain": [
       "United Kingdom    262301\n",
       "Spain              60149\n",
       "France             59928\n",
       "Netherlands        57214\n",
       "Austria            38939\n",
       "Italy              37207\n",
       "Name: stat, dtype: int64"
      ]
     },
     "execution_count": 35,
     "metadata": {},
     "output_type": "execute_result"
    }
   ],
   "source": [
    "soubor['stat'].value_counts()"
   ]
  },
  {
   "cell_type": "code",
   "execution_count": 38,
   "metadata": {
    "collapsed": true
   },
   "outputs": [
    {
     "name": "stdout",
     "output_type": "stream",
     "text": [
      "<class 'pandas.core.frame.DataFrame'>\n",
      "RangeIndex: 515738 entries, 0 to 515737\n",
      "Data columns (total 19 columns):\n",
      " #   Column                                      Non-Null Count   Dtype   \n",
      "---  ------                                      --------------   -----   \n",
      " 0   Hotel_Address                               515738 non-null  object  \n",
      " 1   Additional_Number_of_Scoring                515738 non-null  int64   \n",
      " 2   Review_Date                                 515738 non-null  object  \n",
      " 3   Average_Score                               515738 non-null  float64 \n",
      " 4   Hotel_Name                                  515738 non-null  object  \n",
      " 5   Reviewer_Nationality                        515738 non-null  object  \n",
      " 6   Negative_Review                             515738 non-null  object  \n",
      " 7   Review_Total_Negative_Word_Counts           515738 non-null  int64   \n",
      " 8   Total_Number_of_Reviews                     515738 non-null  int64   \n",
      " 9   Positive_Review                             515738 non-null  object  \n",
      " 10  Review_Total_Positive_Word_Counts           515738 non-null  int64   \n",
      " 11  Total_Number_of_Reviews_Reviewer_Has_Given  515738 non-null  int64   \n",
      " 12  Reviewer_Score                              515738 non-null  float64 \n",
      " 13  Tags                                        515738 non-null  object  \n",
      " 14  days_since_review                           515738 non-null  object  \n",
      " 15  lat                                         512470 non-null  float64 \n",
      " 16  lng                                         512470 non-null  float64 \n",
      " 17  P/N                                         515738 non-null  category\n",
      " 18  stat                                        515738 non-null  object  \n",
      "dtypes: category(1), float64(4), int64(5), object(9)\n",
      "memory usage: 71.3+ MB\n"
     ]
    }
   ],
   "source": []
  },
  {
   "cell_type": "code",
   "execution_count": null,
   "metadata": {},
   "outputs": [],
   "source": []
  },
  {
   "cell_type": "code",
   "execution_count": 2,
   "metadata": {},
   "outputs": [],
   "source": [
    "import os\n",
    "import pandas as pd\n",
    "import numpy as np\n",
    "import seaborn as sns\n",
    "import collections\n",
    "import time"
   ]
  },
  {
   "cell_type": "code",
   "execution_count": null,
   "metadata": {},
   "outputs": [],
   "source": [
    "# loads selected columns into variable hotel_reviews and changes their data types\n",
    "hotel_reviews = pd.read_csv(\"Hotel_Reviews.csv\", \n",
    "                 index_col=False,\n",
    "                 usecols=['Hotel_Address',\n",
    "                          'Additional_Number_of_Scoring',\n",
    "                          'Average_Score',\n",
    "                          'Hotel_Name',\n",
    "                          'Reviewer_Nationality',\n",
    "                          'Negative_Review',\n",
    "                          'Positive_Review',\n",
    "                          'Reviewer_Score',\n",
    "                          'Total_Number_of_Reviews_Reviewer_Has_Given', \n",
    "                          'Tags'],\n",
    "                 dtype={'Hotel_Address':'string',\n",
    "                          'Additional_Number_of_Scoring':'float',\n",
    "                          'Average_Score':'float',\n",
    "                          'Hotel_Name':'string',\n",
    "                          'Reviewer_Nationality':'string',\n",
    "                          'Negative_Review':'string',\n",
    "                          'Positive_Review':'string',\n",
    "                          'Reviewer_Score':'float',\n",
    "                          'Total_Number_of_Reviews_Reviewer_Has_Given':'int', \n",
    "                          'Tags':'string'})"
   ]
  },
  {
   "cell_type": "code",
   "execution_count": null,
   "metadata": {},
   "outputs": [],
   "source": [
    "# saves data without duplicate rows into variable df\n",
    "df = hotel_reviews.drop_duplicates()\n",
    "\n",
    "# replaces default review answer No Negative and No Positive to blank string\n",
    "df.Negative_Review = df.Negative_Review.replace('No Negative', '')\n",
    "df.Positive_Review = df.Positive_Review.replace('No Positive', '')\n",
    "\n",
    "# rounds score to 0 decimal places\n",
    "df = df.round({'Reviewer_Score':0})\n",
    "df = df.round({'Average_Score':0})"
   ]
  },
  {
   "cell_type": "code",
   "execution_count": null,
   "metadata": {},
   "outputs": [],
   "source": [
    "# prints basic information about cleaned dataframe\n",
    "print(df.shape)\n",
    "print(df.describe())\n",
    "print(df.info())"
   ]
  },
  {
   "cell_type": "code",
   "execution_count": null,
   "metadata": {},
   "outputs": [],
   "source": [
    "# histograms of columns Reviewer_Score and Average_Score\n",
    "ax = sns.countplot(data = df, x = 'Reviewer_Score')\n",
    "ax = sns.countplot(data = df, x = 'Average_Score')\n",
    "\n",
    "# heatmap for reviewer and average score\n",
    "sns.heatmap(df.pivot_table(index='Reviewer_Score', columns='Average_Score'))"
   ]
  },
  {
   "cell_type": "code",
   "execution_count": null,
   "metadata": {},
   "outputs": [],
   "source": [
    "# GOOGLE API\n",
    "from google.cloud import language_v1\n",
    "from google.oauth2 import service_account"
   ]
  },
  {
   "cell_type": "code",
   "execution_count": null,
   "metadata": {},
   "outputs": [],
   "source": [
    "# authentication\n",
    "creds = service_account.Credentials.from_service_account_file('./credentials.json')\n",
    "client = language_v1.LanguageServiceClient(credentials=creds)"
   ]
  },
  {
   "cell_type": "code",
   "execution_count": null,
   "metadata": {},
   "outputs": [],
   "source": [
    "# number of dataframe rows to work with\n",
    "df_subset = 10000"
   ]
  },
  {
   "cell_type": "code",
   "execution_count": null,
   "metadata": {},
   "outputs": [],
   "source": [
    "# goes through df_subset rows and saves category of positive review for each row to array\n",
    "positive_review_category_array = []\n",
    "pos_time_start = time.time()\n",
    "for i in range(df_subset):\n",
    "    text_content = df['Positive_Review'].values[i]\n",
    "    # text must consist of at least 20 words\n",
    "    if len(df['Positive_Review'].values[i].split()) > 20:\n",
    "        def sample_classify_text(text_content):\n",
    "            type_ = language_v1.Document.Type.PLAIN_TEXT\n",
    "            language = \"en\"\n",
    "            document = {\"content\": text_content, \"type_\": type_, \"language\": language}\n",
    "            response = client.classify_text(request = {'document': document})\n",
    "            return response\n",
    "        \n",
    "        response = sample_classify_text(text_content)\n",
    "        for category in response.categories:\n",
    "            positive_review_category_array.append(str(category.name))\n",
    "    if i%10 == 0:\n",
    "        print(\"positive precessed:\", i, \"/\", df_subset, \"=\", i*100/df_subset,\"%\", round(time.time() - pos_time_start), \"seconds\")"
   ]
  },
  {
   "cell_type": "code",
   "execution_count": null,
   "metadata": {},
   "outputs": [],
   "source": [
    "# splits categories by / delimiter\n",
    "positive_review_category_array_clean = [word for line in positive_review_category_array for word in line.split('/')]\n",
    "# filters out blank strings from array\n",
    "positive_review_category_array_clean = [n for n in positive_review_category_array_clean if n != '']\n",
    "# creates dataframe of unique categories and their amount\n",
    "df_pos = pd.DataFrame.from_dict(collections.Counter(np.array(positive_review_category_array_clean)), orient='index').reset_index()\n",
    "# sorts by most frequent categories and filters first 20 rows\n",
    "df_pos.sort_values(by=0,ascending = False).head(20)\n",
    "# bar chart representation\n",
    "df_pos_chart = sns.barplot(data = df_pos.sort_values(by=0,ascending = False).head(20), y = 'index', x = 0).set_title('Top 20 categories of positive reviews')"
   ]
  },
  {
   "cell_type": "code",
   "execution_count": null,
   "metadata": {},
   "outputs": [],
   "source": [
    "# goes through df_subset rows and saves category of negative review for each row to array\n",
    "negative_review_category_array = []\n",
    "neg_time_start = time.time()\n",
    "for i in range(df_subset):\n",
    "    text_content = df['Negative_Review'].values[i]\n",
    "    if len(df['Negative_Review'].values[i].split()) > 20:\n",
    "        def sample_classify_text(text_content):\n",
    "            type_ = language_v1.Document.Type.PLAIN_TEXT\n",
    "            language = \"en\"\n",
    "            document = {\"content\": df['Negative_Review'].values[i], \"type_\": type_, \"language\": language}\n",
    "            response = client.classify_text(request = {'document': document})\n",
    "            return response\n",
    "        \n",
    "        response = sample_classify_text(df['Negative_Review'].values[i])\n",
    "        for category in response.categories:\n",
    "            negative_review_category_array.append(str(category.name))\n",
    "    if i%10 == 0:\n",
    "        print(\"negative precessed:\", i, \"/\", df_subset, \"=\", i*100/df_subset,\"%\", round(time.time() - neg_time_start), \"seconds\")"
   ]
  },
  {
   "cell_type": "code",
   "execution_count": null,
   "metadata": {},
   "outputs": [],
   "source": [
    "# splits categories by / delimiter        \n",
    "negative_review_category_array_clean = [word for line in negative_review_category_array for word in line.split('/')]\n",
    "# filters out blank strings from array\n",
    "negative_review_category_array_clean = [n for n in negative_review_category_array_clean if n != '']\n",
    "# creates dataframe of unique categories and their amount\n",
    "df_neg = pd.DataFrame.from_dict(collections.Counter(np.array(negative_review_category_array_clean)), orient='index').reset_index()\n",
    "# sorts by most frequent categories and filters first 20 rows\n",
    "df_neg.sort_values(by=0,ascending = False).head(20)\n",
    "# bar chart representation\n",
    "df_neg_chart = sns.barplot(data = df_neg.sort_values(by=0,ascending = False).head(20), y = 'index', x = 0).set_title('Top 20 categories of negative reviews')"
   ]
  }
 ],
 "metadata": {
  "kernelspec": {
   "display_name": "Python 3",
   "language": "python",
   "name": "python3"
  },
  "language_info": {
   "codemirror_mode": {
    "name": "ipython",
    "version": 3
   },
   "file_extension": ".py",
   "mimetype": "text/x-python",
   "name": "python",
   "nbconvert_exporter": "python",
   "pygments_lexer": "ipython3",
   "version": "3.8.3"
  }
 },
 "nbformat": 4,
 "nbformat_minor": 4
}
